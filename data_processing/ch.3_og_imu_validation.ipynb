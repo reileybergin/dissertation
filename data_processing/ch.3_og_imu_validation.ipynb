{
 "cells": [
  {
   "cell_type": "markdown",
   "metadata": {},
   "source": [
    "## IMU Validation Overground Running"
   ]
  },
  {
   "cell_type": "markdown",
   "metadata": {},
   "source": [
    "IMeasureU Blue Thunder Specs:\n",
    "- Sampling freq for lowg = 500hz\n",
    "- 5 minutes of data = 337,500 rows (1125hz) or 478,000 (1600hz)"
   ]
  },
  {
   "cell_type": "markdown",
   "metadata": {},
   "source": [
    "Overview:\n",
    "- The purpose of this script is to derive data from the IMU which correspondes to a footstrike on the force plate\n",
    "- The is done using an \"offset time\" from when the subject stomps on the ground"
   ]
  },
  {
   "cell_type": "code",
   "execution_count": null,
   "metadata": {},
   "outputs": [],
   "source": [
    "# Import custom functions ---\n",
    "import functions.file_import_gui as gui\n",
    "import functions.data_prep as prep\n",
    "import functions.custom_plots as plots\n",
    "\n",
    "# For saving files\n",
    "import os\n",
    "\n",
    "# For dataframes ---\n",
    "import pandas as pd\n",
    "\n",
    "# For plotting ---\n",
    "import plotly.graph_objs as go\n",
    "from plotly.subplots import make_subplots"
   ]
  },
  {
   "cell_type": "code",
   "execution_count": null,
   "metadata": {},
   "outputs": [],
   "source": [
    "# Subject to process\n",
    "sub_id = 'imu_val_001'\n",
    "run_type = 'run'\n",
    "\n",
    "# set directory\n",
    "initialdir = f\"data/validity_og/individual_trials/{sub_id}/{run_type}\"\n",
    "# bring in csv files with data\n",
    "dfs_trials, keys_list = gui.read_csv_files_gui(initialdir)\n",
    "\n",
    "# subject's offset times\n",
    "filepath = f\"data/validity_og/offset_times/{run_type}/{sub_id}.csv\"\n",
    "# Read the csv file\n",
    "offset_times_df = pd.read_csv(filepath)\n",
    "\n",
    "# keep only the \"good\" trials\n",
    "dfs_good_trials = prep.filter_out_dfs(dfs_trials, offset_times_df)"
   ]
  },
  {
   "cell_type": "markdown",
   "metadata": {},
   "source": [
    "Prep"
   ]
  },
  {
   "cell_type": "code",
   "execution_count": null,
   "metadata": {},
   "outputs": [],
   "source": [
    "# calculate and add resultant column\n",
    "prep.add_resultant_column(dfs_good_trials, column_x = 'accel_x (m/s2)', column_y = 'accel_y (m/s2)', column_z = 'accel_z (m/s2)', name_of_res_column = 'res_m/s/s')\n",
    "# convert accel columns to gs\n",
    "prep.accel_to_gs_columns(dfs_good_trials, column_x = 'accel_x (m/s2)', column_y = 'accel_y (m/s2)', column_z = 'accel_z (m/s2)', name_of_res_column = 'res_m/s/s')\n",
    "# finds window for force plate foot strike using foot stomp (initial peak) and offset times\n",
    "offset_windows_df = prep.peak_and_window_data(dfs_good_trials, offset_times_df, search_window_margin=50)"
   ]
  },
  {
   "cell_type": "code",
   "execution_count": null,
   "metadata": {},
   "outputs": [],
   "source": [
    "# Create dictionary that stores each IMU together with the trial number\n",
    "\n",
    "from collections import defaultdict\n",
    "\n",
    "# Initialize dictionaries to hold the separated trials\n",
    "dfs_trials_separate = defaultdict(dict)\n",
    "\n",
    "# Iterate through the items in your original dictionary\n",
    "for key, df in dfs_good_trials.items():\n",
    "    # Extract trial number from the key\n",
    "    # Assuming the format is consistent and the trial number is always at the end\n",
    "    trial_number = key.split('_')[-1]\n",
    "\n",
    "    # Add the dataframe to the corresponding trial dictionary\n",
    "    dfs_trials_separate[trial_number][key] = df"
   ]
  },
  {
   "cell_type": "markdown",
   "metadata": {},
   "source": [
    "Visually Inspect & Find Peaks"
   ]
  },
  {
   "cell_type": "code",
   "execution_count": null,
   "metadata": {},
   "outputs": [],
   "source": [
    "# Plot each IMU by trial number\n",
    "plots.plot_trial_data(dfs_trials_separate, 'trial6', 'res_g', offset_windows_df=offset_windows_df)"
   ]
  }
 ],
 "metadata": {
  "kernelspec": {
   "display_name": "imu_training_load_study-UQqD6JkG",
   "language": "python",
   "name": "python3"
  },
  "language_info": {
   "codemirror_mode": {
    "name": "ipython",
    "version": 3
   },
   "file_extension": ".py",
   "mimetype": "text/x-python",
   "name": "python",
   "nbconvert_exporter": "python",
   "pygments_lexer": "ipython3",
   "version": "3.11.2"
  }
 },
 "nbformat": 4,
 "nbformat_minor": 2
}
