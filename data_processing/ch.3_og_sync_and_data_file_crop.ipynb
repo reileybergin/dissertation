{
 "cells": [
  {
   "cell_type": "markdown",
   "metadata": {},
   "source": [
    "## IMeasureU Data & Sync File Cropping"
   ]
  },
  {
   "cell_type": "markdown",
   "metadata": {},
   "source": [
    "For cropping files with multiple start and stop times and good/bad trials"
   ]
  },
  {
   "cell_type": "code",
   "execution_count": 1,
   "metadata": {},
   "outputs": [],
   "source": [
    "# Import functions ---\n",
    "import functions.file_import_gui as gui\n",
    "\n",
    "# For dataframes ---\n",
    "import pandas as pd\n",
    "\n",
    "# For saving files ---\n",
    "import os"
   ]
  },
  {
   "cell_type": "code",
   "execution_count": 2,
   "metadata": {},
   "outputs": [],
   "source": [
    "# Bring in data and sync files ---\n",
    "\n",
    "# Subject to process\n",
    "sub_id = 'imu_val_001'\n",
    "run_type = 'walk'\n",
    "\n",
    "# data files ---\n",
    "# set directory\n",
    "initialdir = f\"data/validity_og/{sub_id}/DataFiles/{run_type}\"\n",
    "# bring in csv files with data\n",
    "dfs_datafiles, keys_list = gui.read_csv_files_gui_2(initialdir)\n",
    "\n",
    "# sync files ---\n",
    "# set directory\n",
    "initialdir = f\"data/validity_og/{sub_id}/SyncFiles/{run_type}\"\n",
    "# bring in csv files with data\n",
    "dfs_syncfiles, keys_list = gui.read_csv_files_gui_2(initialdir)"
   ]
  },
  {
   "cell_type": "code",
   "execution_count": null,
   "metadata": {},
   "outputs": [],
   "source": [
    "results = {}\n",
    "\n",
    "for id, df in dfs_syncfiles.items():\n",
    "    # Find all start and stop timestamps\n",
    "    start_times = df[df['address'] == 0]['timestamp'].tolist()\n",
    "    stop_times = df[df['address'] == 1]['timestamp'].tolist()\n",
    "\n",
    "    # Pair start and stop times\n",
    "    # This assumes an equal number of start and stop times\n",
    "    # and pairs them in sequential order\n",
    "    if len(start_times) != len(stop_times):\n",
    "        raise ValueError(f\"DataFrame with id {id} has unequal numbers of start and stop times.\")\n",
    "\n",
    "    time_pairs = list(zip(start_times, stop_times))\n",
    "\n",
    "    # Store in results\n",
    "    results[id] = time_pairs\n",
    "\n",
    "# Convert to a DataFrame\n",
    "# This will result in a DataFrame with one row per id,\n",
    "# and a list of tuples (start_time, end_time) for each id\n",
    "timestamps_df = pd.DataFrame(list(results.items()), columns=['id', 'time_pairs'])"
   ]
  },
  {
   "cell_type": "code",
   "execution_count": null,
   "metadata": {},
   "outputs": [],
   "source": [
    "# Crop out data in datafiles based on start and stop timestamps\n",
    "\n",
    "dfs_cropped = {}\n",
    "\n",
    "for df_id in dfs_datafiles.keys():\n",
    "    df = dfs_datafiles[df_id]\n",
    "\n",
    "    if df_id in timestamps_df['id'].values:\n",
    "        # Retrieve all start and stop time pairs for this DataFrame\n",
    "        time_pairs = timestamps_df.loc[timestamps_df['id'] == df_id, 'time_pairs'].iloc[0]\n",
    "\n",
    "        # Iterate over each pair of start and stop times\n",
    "        for trial_number, (start_time, end_time) in enumerate(time_pairs, start=1):\n",
    "            # Crop the DataFrame\n",
    "            filtered_df = df[df['timestamp'].between(start_time, end_time)]\n",
    "\n",
    "            # Create a unique identifier for the cropped DataFrame\n",
    "            cropped_df_id = f\"{df_id}_trial{trial_number}\"\n",
    "\n",
    "            # Store the cropped DataFrame\n",
    "            dfs_cropped[cropped_df_id] = filtered_df\n",
    "    else:\n",
    "        # Handle the case where there is no matching ID in timestamps_df\n",
    "        print(f\"No matching timestamp found for DataFrame with ID: {df_id}\")\n"
   ]
  },
  {
   "cell_type": "code",
   "execution_count": null,
   "metadata": {},
   "outputs": [],
   "source": [
    "# Save files ---\n",
    "\n",
    "# Base directory\n",
    "base_dir = \"data/validity_og/individual_trials\"\n",
    "\n",
    "# Iterate through the cropped DataFrames\n",
    "for df_id, df in dfs_cropped.items():\n",
    "    # Construct the directory path\n",
    "    dir_path = os.path.join(base_dir, sub_id, run_type)\n",
    "\n",
    "    # Check if the directory exists, if not, create it\n",
    "    if not os.path.exists(dir_path):\n",
    "        os.makedirs(dir_path)\n",
    "\n",
    "    # Construct the file path\n",
    "    file_path = os.path.join(dir_path, f\"{df_id}.csv\")\n",
    "\n",
    "    # Save the DataFrame as a CSV\n",
    "    df.to_csv(file_path, index=False)\n",
    "\n",
    "    print(f\"{df_id} saved to {file_path}\")"
   ]
  }
 ],
 "metadata": {
  "kernelspec": {
   "display_name": "imu_training_load_study-UQqD6JkG",
   "language": "python",
   "name": "python3"
  },
  "language_info": {
   "codemirror_mode": {
    "name": "ipython",
    "version": 3
   },
   "file_extension": ".py",
   "mimetype": "text/x-python",
   "name": "python",
   "nbconvert_exporter": "python",
   "pygments_lexer": "ipython3",
   "version": "3.11.2"
  }
 },
 "nbformat": 4,
 "nbformat_minor": 2
}
